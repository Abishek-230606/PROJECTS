{
 "cells": [
  {
   "cell_type": "markdown",
   "id": "69c6765b",
   "metadata": {},
   "source": [
    "# Imports"
   ]
  },
  {
   "cell_type": "code",
   "execution_count": 75,
   "id": "fadd24b9",
   "metadata": {},
   "outputs": [],
   "source": [
    "import time\n",
    "import numpy as np\n",
    "import pandas as pd\n",
    "import matplotlib.pyplot as plt\n",
    "import seaborn as sns\n",
    "from sklearn.model_selection import train_test_split, GridSearchCV, RandomizedSearchCV\n",
    "from sklearn.preprocessing import StandardScaler, LabelEncoder\n",
    "from sklearn.ensemble import RandomForestClassifier, RandomForestRegressor\n",
    "from sklearn.svm import SVC\n",
    "from sklearn.metrics import accuracy_score, precision_score, recall_score, f1_score, confusion_matrix, classification_report\n",
    "from sklearn.metrics import mean_squared_error, r2_score\n",
    "from sklearn.inspection import permutation_importance\n",
    "from xgboost import XGBClassifier\n",
    "import warnings\n",
    "warnings.filterwarnings('ignore')"
   ]
  },
  {
   "cell_type": "markdown",
   "id": "4be11d32",
   "metadata": {},
   "source": [
    "# set path to dataset "
   ]
  },
  {
   "cell_type": "code",
   "execution_count": 76,
   "id": "bfa69882",
   "metadata": {},
   "outputs": [],
   "source": [
    "DATA_PATH = 'data.csv' "
   ]
  },
  {
   "cell_type": "markdown",
   "id": "05ccd0b0",
   "metadata": {},
   "source": [
    "## Load dataset  and print a quick summary\n"
   ]
  },
  {
   "cell_type": "code",
   "execution_count": 77,
   "id": "43cc53c8",
   "metadata": {},
   "outputs": [
    {
     "name": "stdout",
     "output_type": "stream",
     "text": [
      "Loaded dataset with shape: (9000, 10)\n"
     ]
    }
   ],
   "source": [
    "df = pd.read_csv('data.csv')\n",
    "print('Loaded dataset with shape:', df.shape)"
   ]
  },
  {
   "cell_type": "markdown",
   "id": "4a97cbfb",
   "metadata": {},
   "source": [
    "# Show top rows and info"
   ]
  },
  {
   "cell_type": "code",
   "execution_count": 78,
   "id": "c0aa7e2c",
   "metadata": {},
   "outputs": [
    {
     "data": {
      "text/html": [
       "<div>\n",
       "<style scoped>\n",
       "    .dataframe tbody tr th:only-of-type {\n",
       "        vertical-align: middle;\n",
       "    }\n",
       "\n",
       "    .dataframe tbody tr th {\n",
       "        vertical-align: top;\n",
       "    }\n",
       "\n",
       "    .dataframe thead th {\n",
       "        text-align: right;\n",
       "    }\n",
       "</style>\n",
       "<table border=\"1\" class=\"dataframe\">\n",
       "  <thead>\n",
       "    <tr style=\"text-align: right;\">\n",
       "      <th></th>\n",
       "      <th>Employee_ID</th>\n",
       "      <th>Age</th>\n",
       "      <th>Department</th>\n",
       "      <th>Years_of_Experience</th>\n",
       "      <th>Monthly_Working_Hours</th>\n",
       "      <th>Training_Hours_per_Year</th>\n",
       "      <th>Performance_Rating</th>\n",
       "      <th>Job_Satisfaction_Level</th>\n",
       "      <th>Promotion_in_Last_2_Years</th>\n",
       "      <th>Attrition</th>\n",
       "    </tr>\n",
       "  </thead>\n",
       "  <tbody>\n",
       "    <tr>\n",
       "      <th>0</th>\n",
       "      <td>E1000</td>\n",
       "      <td>59</td>\n",
       "      <td>Sales</td>\n",
       "      <td>27</td>\n",
       "      <td>135</td>\n",
       "      <td>30</td>\n",
       "      <td>3</td>\n",
       "      <td>Medium</td>\n",
       "      <td>Yes</td>\n",
       "      <td>No</td>\n",
       "    </tr>\n",
       "    <tr>\n",
       "      <th>1</th>\n",
       "      <td>E1001</td>\n",
       "      <td>49</td>\n",
       "      <td>Tech</td>\n",
       "      <td>13</td>\n",
       "      <td>132</td>\n",
       "      <td>36</td>\n",
       "      <td>5</td>\n",
       "      <td>Medium</td>\n",
       "      <td>Yes</td>\n",
       "      <td>Yes</td>\n",
       "    </tr>\n",
       "    <tr>\n",
       "      <th>2</th>\n",
       "      <td>E1002</td>\n",
       "      <td>35</td>\n",
       "      <td>Operations</td>\n",
       "      <td>16</td>\n",
       "      <td>197</td>\n",
       "      <td>11</td>\n",
       "      <td>5</td>\n",
       "      <td>Low</td>\n",
       "      <td>No</td>\n",
       "      <td>No</td>\n",
       "    </tr>\n",
       "    <tr>\n",
       "      <th>3</th>\n",
       "      <td>E1003</td>\n",
       "      <td>28</td>\n",
       "      <td>HR</td>\n",
       "      <td>23</td>\n",
       "      <td>204</td>\n",
       "      <td>36</td>\n",
       "      <td>3</td>\n",
       "      <td>High</td>\n",
       "      <td>No</td>\n",
       "      <td>No</td>\n",
       "    </tr>\n",
       "    <tr>\n",
       "      <th>4</th>\n",
       "      <td>E1004</td>\n",
       "      <td>41</td>\n",
       "      <td>Operations</td>\n",
       "      <td>33</td>\n",
       "      <td>192</td>\n",
       "      <td>36</td>\n",
       "      <td>2</td>\n",
       "      <td>Medium</td>\n",
       "      <td>No</td>\n",
       "      <td>No</td>\n",
       "    </tr>\n",
       "  </tbody>\n",
       "</table>\n",
       "</div>"
      ],
      "text/plain": [
       "  Employee_ID  Age  Department  Years_of_Experience  Monthly_Working_Hours  \\\n",
       "0       E1000   59       Sales                   27                    135   \n",
       "1       E1001   49        Tech                   13                    132   \n",
       "2       E1002   35  Operations                   16                    197   \n",
       "3       E1003   28          HR                   23                    204   \n",
       "4       E1004   41  Operations                   33                    192   \n",
       "\n",
       "   Training_Hours_per_Year  Performance_Rating Job_Satisfaction_Level  \\\n",
       "0                       30                   3                 Medium   \n",
       "1                       36                   5                 Medium   \n",
       "2                       11                   5                    Low   \n",
       "3                       36                   3                   High   \n",
       "4                       36                   2                 Medium   \n",
       "\n",
       "  Promotion_in_Last_2_Years Attrition  \n",
       "0                       Yes        No  \n",
       "1                       Yes       Yes  \n",
       "2                        No        No  \n",
       "3                        No        No  \n",
       "4                        No        No  "
      ]
     },
     "metadata": {},
     "output_type": "display_data"
    },
    {
     "name": "stdout",
     "output_type": "stream",
     "text": [
      "\n",
      "Data info:\n",
      "<class 'pandas.core.frame.DataFrame'>\n",
      "RangeIndex: 9000 entries, 0 to 8999\n",
      "Data columns (total 10 columns):\n",
      " #   Column                     Non-Null Count  Dtype \n",
      "---  ------                     --------------  ----- \n",
      " 0   Employee_ID                9000 non-null   object\n",
      " 1   Age                        9000 non-null   int64 \n",
      " 2   Department                 9000 non-null   object\n",
      " 3   Years_of_Experience        9000 non-null   int64 \n",
      " 4   Monthly_Working_Hours      9000 non-null   int64 \n",
      " 5   Training_Hours_per_Year    9000 non-null   int64 \n",
      " 6   Performance_Rating         9000 non-null   int64 \n",
      " 7   Job_Satisfaction_Level     9000 non-null   object\n",
      " 8   Promotion_in_Last_2_Years  9000 non-null   object\n",
      " 9   Attrition                  9000 non-null   object\n",
      "dtypes: int64(5), object(5)\n",
      "memory usage: 703.3+ KB\n",
      "\n",
      "Missing values per column:\n",
      "Employee_ID                  0\n",
      "Age                          0\n",
      "Department                   0\n",
      "Years_of_Experience          0\n",
      "Monthly_Working_Hours        0\n",
      "Training_Hours_per_Year      0\n",
      "Performance_Rating           0\n",
      "Job_Satisfaction_Level       0\n",
      "Promotion_in_Last_2_Years    0\n",
      "Attrition                    0\n",
      "dtype: int64\n"
     ]
    }
   ],
   "source": [
    "display(df.head())\n",
    "print('\\nData info:')\n",
    "df.info()\n",
    "print('\\nMissing values per column:')\n",
    "print(df.isnull().sum())"
   ]
  },
  {
   "cell_type": "markdown",
   "id": "7ec15b83",
   "metadata": {},
   "source": [
    " ## Basic cleaning & preprocessing strategy\n",
    "# Steps performed in the notebook:\n",
    "# 1. Drop or fill missing values (simple strategy: drop rows with many missing or fill with median/mode).\n",
    "# 2. Convert categorical columns (Department, Job Satisfaction Level, Promotion, Attrition) into numeric labels.\n",
    "# 3. Feature engineering - if needed (e.g., years category, hours per week derived, etc.).\n",
    "# 4. Prepare `X` and `y` for classification (Attrition) and regression (Performance Rating).\n",
    "\n",
    "\n",
    "\n",
    "\n",
    "\n",
    "\n",
    "\n",
    "\n",
    "\n",
    "\n",
    "\n",
    "\n",
    "\n",
    "\n",
    "\n",
    "\n",
    "\n",
    "\n",
    "\n",
    "\n",
    "\n"
   ]
  },
  {
   "cell_type": "code",
   "execution_count": 79,
   "id": "6ae374b7",
   "metadata": {},
   "outputs": [],
   "source": [
    "# Make a copy\n",
    "data = df.copy()"
   ]
  },
  {
   "cell_type": "markdown",
   "id": "457a707a",
   "metadata": {},
   "source": [
    "# Standardize column names (strip spaces)\n"
   ]
  },
  {
   "cell_type": "code",
   "execution_count": 80,
   "id": "19a8a261",
   "metadata": {},
   "outputs": [],
   "source": [
    "data.columns = [c.strip() for c in data.columns]"
   ]
  },
  {
   "cell_type": "code",
   "execution_count": 81,
   "id": "f8fdc756",
   "metadata": {},
   "outputs": [
    {
     "name": "stdout",
     "output_type": "stream",
     "text": [
      "Columns: ['Employee_ID', 'Age', 'Department', 'Years_of_Experience', 'Monthly_Working_Hours', 'Training_Hours_per_Year', 'Performance_Rating', 'Job_Satisfaction_Level', 'Promotion_in_Last_2_Years', 'Attrition']\n"
     ]
    }
   ],
   "source": [
    "# Inspect expected columns\n",
    "print('Columns:', list(data.columns))"
   ]
  },
  {
   "cell_type": "code",
   "execution_count": 82,
   "id": "ca467893",
   "metadata": {},
   "outputs": [],
   "source": [
    "# Fill missing values for numeric with median, categorical with mode"
   ]
  },
  {
   "cell_type": "code",
   "execution_count": 83,
   "id": "935c907c",
   "metadata": {},
   "outputs": [
    {
     "name": "stdout",
     "output_type": "stream",
     "text": [
      "\n",
      "After filling missing values:\n",
      "Employee_ID                  0\n",
      "Age                          0\n",
      "Department                   0\n",
      "Years_of_Experience          0\n",
      "Monthly_Working_Hours        0\n",
      "Training_Hours_per_Year      0\n",
      "Performance_Rating           0\n",
      "Job_Satisfaction_Level       0\n",
      "Promotion_in_Last_2_Years    0\n",
      "Attrition                    0\n",
      "dtype: int64\n"
     ]
    }
   ],
   "source": [
    "num_cols = data.select_dtypes(include=[np.number]).columns.tolist()\n",
    "cat_cols = data.select_dtypes(include=['object', 'category']).columns.tolist()\n",
    "for c in num_cols:\n",
    "    if data[c].isnull().sum() > 0:\n",
    "        data[c].fillna(data[c].median(), inplace=True)\n",
    "for c in cat_cols:\n",
    "    if data[c].isnull().sum() > 0:\n",
    "        data[c].fillna(data[c].mode()[0], inplace=True)\n",
    "\n",
    "print('\\nAfter filling missing values:')\n",
    "print(data.isnull().sum())"
   ]
  },
  {
   "cell_type": "markdown",
   "id": "686c08e2",
   "metadata": {},
   "source": [
    "### Encode categorical variables\n",
    "# We'll label-encode simple categorical fields. For multi-class or ordinal (Job Satisfaction: Low/Medium/High) we preserve ordering manually."
   ]
  },
  {
   "cell_type": "code",
   "execution_count": 84,
   "id": "2154adf0",
   "metadata": {},
   "outputs": [],
   "source": [
    "le = LabelEncoder()"
   ]
  },
  {
   "cell_type": "markdown",
   "id": "680b74c8",
   "metadata": {},
   "source": [
    "# Common categorical columns based on task description\n",
    "# 'Department', 'Job Satisfaction Level', 'Promotion in Last 2 Years', 'Attrition'\n",
    "# Map possible column name variations to expected names"
   ]
  },
  {
   "cell_type": "code",
   "execution_count": 85,
   "id": "6a1b3d6f",
   "metadata": {},
   "outputs": [
    {
     "name": "stdout",
     "output_type": "stream",
     "text": [
      "\n",
      "Column mapping detected: {'Department': 'Department', 'PerformanceRating': 'Performance_Rating', 'JobSatisfaction': 'Job_Satisfaction_Level', 'Promotion': 'Promotion_in_Last_2_Years', 'Attrition': 'Attrition'}\n"
     ]
    }
   ],
   "source": [
    "col_map = {}\n",
    "for c in data.columns:\n",
    "    lc = c.lower()\n",
    "    if 'department' in lc:\n",
    "        col_map['Department'] = c\n",
    "    if 'satisfaction' in lc:\n",
    "        col_map['JobSatisfaction'] = c\n",
    "    if 'promotion' in lc or 'promoted' in lc:\n",
    "        col_map['Promotion'] = c\n",
    "    if 'attrit' in lc or 'left' in lc or 'resign' in lc:\n",
    "        col_map['Attrition'] = c\n",
    "    if 'performance' in lc and 'rating' in lc:\n",
    "        col_map['PerformanceRating'] = c\n",
    "\n",
    "print('\\nColumn mapping detected:', col_map)"
   ]
  },
  {
   "cell_type": "markdown",
   "id": "78e8ac18",
   "metadata": {},
   "source": [
    "# Apply encodings"
   ]
  },
  {
   "cell_type": "code",
   "execution_count": 86,
   "id": "224e505f",
   "metadata": {},
   "outputs": [],
   "source": [
    "def safe_label_encode(df, col, mapping=None, ordered_categories=None):\n",
    "    if col not in df.columns:\n",
    "        return df\n",
    "    if ordered_categories is not None:\n",
    "        # create a categorical with order\n",
    "        df[col] = pd.Categorical(df[col], categories=ordered_categories, ordered=True)\n",
    "        df[col] = df[col].cat.codes\n",
    "    else:\n",
    "        try:\n",
    "            df[col] = le.fit_transform(df[col].astype(str))\n",
    "        except Exception:\n",
    "            df[col] = df[col].astype('category').cat.codes\n",
    "    return df"
   ]
  },
  {
   "cell_type": "code",
   "execution_count": 87,
   "id": "d9e1d918",
   "metadata": {},
   "outputs": [],
   "source": [
    "if 'Department' in col_map:\n",
    "    data = safe_label_encode(data, col_map['Department'])\n",
    "if 'JobSatisfaction' in col_map:\n",
    "    # If job satisfaction is Low/Medium/High order it\n",
    "    js_col = col_map['JobSatisfaction']\n",
    "    unique_vals = data[js_col].dropna().unique()\n",
    "    ordered = None\n",
    "    # if typical levels present\n",
    "    typical = ['Low', 'Medium', 'High']\n",
    "    if all(x in unique_vals for x in typical):\n",
    "        ordered = typical\n",
    "    data = safe_label_encode(data, js_col, ordered_categories=ordered)\n",
    "if 'Promotion' in col_map:\n",
    "    # yes/no map\n",
    "    pcol = col_map['Promotion']\n",
    "    data[pcol] = data[pcol].astype(str).str.strip().replace({'Yes':'Yes','No':'No','yes':'Yes','no':'No'})\n",
    "    data = safe_label_encode(data, pcol)\n",
    "if 'Attrition' in col_map:\n",
    "    acol = col_map['Attrition']\n",
    "    data[acol] = data[acol].astype(str).str.strip().replace({'Yes':'Yes','No':'No','yes':'Yes','no':'No'})\n",
    "    data = safe_label_encode(data, acol)\n",
    "\n",
    "# If Performance rating exists, ensure numeric\n",
    "if 'PerformanceRating' in col_map:\n",
    "    pr = col_map['PerformanceRating']\n",
    "    try:\n",
    "        data[pr] = pd.to_numeric(data[pr])\n",
    "    except Exception:\n",
    "        data[pr] = data[pr].astype('category').cat.codes\n"
   ]
  },
  {
   "cell_type": "code",
   "execution_count": 88,
   "id": "081b9cef",
   "metadata": {},
   "outputs": [
    {
     "data": {
      "text/html": [
       "<div>\n",
       "<style scoped>\n",
       "    .dataframe tbody tr th:only-of-type {\n",
       "        vertical-align: middle;\n",
       "    }\n",
       "\n",
       "    .dataframe tbody tr th {\n",
       "        vertical-align: top;\n",
       "    }\n",
       "\n",
       "    .dataframe thead th {\n",
       "        text-align: right;\n",
       "    }\n",
       "</style>\n",
       "<table border=\"1\" class=\"dataframe\">\n",
       "  <thead>\n",
       "    <tr style=\"text-align: right;\">\n",
       "      <th></th>\n",
       "      <th>Employee_ID</th>\n",
       "      <th>Age</th>\n",
       "      <th>Department</th>\n",
       "      <th>Years_of_Experience</th>\n",
       "      <th>Monthly_Working_Hours</th>\n",
       "      <th>Training_Hours_per_Year</th>\n",
       "      <th>Performance_Rating</th>\n",
       "      <th>Job_Satisfaction_Level</th>\n",
       "      <th>Promotion_in_Last_2_Years</th>\n",
       "      <th>Attrition</th>\n",
       "    </tr>\n",
       "  </thead>\n",
       "  <tbody>\n",
       "    <tr>\n",
       "      <th>0</th>\n",
       "      <td>E1000</td>\n",
       "      <td>59</td>\n",
       "      <td>3</td>\n",
       "      <td>27</td>\n",
       "      <td>135</td>\n",
       "      <td>30</td>\n",
       "      <td>3</td>\n",
       "      <td>1</td>\n",
       "      <td>1</td>\n",
       "      <td>0</td>\n",
       "    </tr>\n",
       "    <tr>\n",
       "      <th>1</th>\n",
       "      <td>E1001</td>\n",
       "      <td>49</td>\n",
       "      <td>4</td>\n",
       "      <td>13</td>\n",
       "      <td>132</td>\n",
       "      <td>36</td>\n",
       "      <td>5</td>\n",
       "      <td>1</td>\n",
       "      <td>1</td>\n",
       "      <td>1</td>\n",
       "    </tr>\n",
       "    <tr>\n",
       "      <th>2</th>\n",
       "      <td>E1002</td>\n",
       "      <td>35</td>\n",
       "      <td>2</td>\n",
       "      <td>16</td>\n",
       "      <td>197</td>\n",
       "      <td>11</td>\n",
       "      <td>5</td>\n",
       "      <td>0</td>\n",
       "      <td>0</td>\n",
       "      <td>0</td>\n",
       "    </tr>\n",
       "    <tr>\n",
       "      <th>3</th>\n",
       "      <td>E1003</td>\n",
       "      <td>28</td>\n",
       "      <td>1</td>\n",
       "      <td>23</td>\n",
       "      <td>204</td>\n",
       "      <td>36</td>\n",
       "      <td>3</td>\n",
       "      <td>2</td>\n",
       "      <td>0</td>\n",
       "      <td>0</td>\n",
       "    </tr>\n",
       "    <tr>\n",
       "      <th>4</th>\n",
       "      <td>E1004</td>\n",
       "      <td>41</td>\n",
       "      <td>2</td>\n",
       "      <td>33</td>\n",
       "      <td>192</td>\n",
       "      <td>36</td>\n",
       "      <td>2</td>\n",
       "      <td>1</td>\n",
       "      <td>0</td>\n",
       "      <td>0</td>\n",
       "    </tr>\n",
       "  </tbody>\n",
       "</table>\n",
       "</div>"
      ],
      "text/plain": [
       "  Employee_ID  Age  Department  Years_of_Experience  Monthly_Working_Hours  \\\n",
       "0       E1000   59           3                   27                    135   \n",
       "1       E1001   49           4                   13                    132   \n",
       "2       E1002   35           2                   16                    197   \n",
       "3       E1003   28           1                   23                    204   \n",
       "4       E1004   41           2                   33                    192   \n",
       "\n",
       "   Training_Hours_per_Year  Performance_Rating  Job_Satisfaction_Level  \\\n",
       "0                       30                   3                       1   \n",
       "1                       36                   5                       1   \n",
       "2                       11                   5                       0   \n",
       "3                       36                   3                       2   \n",
       "4                       36                   2                       1   \n",
       "\n",
       "   Promotion_in_Last_2_Years  Attrition  \n",
       "0                          1          0  \n",
       "1                          1          1  \n",
       "2                          0          0  \n",
       "3                          0          0  \n",
       "4                          0          0  "
      ]
     },
     "metadata": {},
     "output_type": "display_data"
    },
    {
     "name": "stdout",
     "output_type": "stream",
     "text": [
      "Candidate features: ['Age', 'Department', 'Years_of_Experience', 'Monthly_Working_Hours', 'Training_Hours_per_Year', 'Performance_Rating', 'Job_Satisfaction_Level', 'Promotion_in_Last_2_Years', 'Attrition']\n"
     ]
    }
   ],
   "source": [
    "# Show processed head\n",
    "display(data.head())\n",
    "#features\n",
    "features = [c for c in data.columns if 'employee' not in c.lower()]\n",
    "print('Candidate features:', features)\n"
   ]
  },
  {
   "cell_type": "code",
   "execution_count": 89,
   "id": "e0c59daf",
   "metadata": {},
   "outputs": [
    {
     "name": "stdout",
     "output_type": "stream",
     "text": [
      "Attrition column: Attrition \n",
      "Performance column: Performance_Rating\n"
     ]
    }
   ],
   "source": [
    "# Choose label columns if present\n",
    "attrition_col = col_map.get('Attrition', None)\n",
    "perf_col = col_map.get('PerformanceRating', None)\n",
    "print('Attrition column:', attrition_col, '\\nPerformance column:', perf_col)"
   ]
  },
  {
   "cell_type": "code",
   "execution_count": 90,
   "id": "48b050a3",
   "metadata": {},
   "outputs": [
    {
     "name": "stdout",
     "output_type": "stream",
     "text": [
      "X columns used: ['Age', 'Department', 'Years_of_Experience', 'Monthly_Working_Hours', 'Training_Hours_per_Year', 'Job_Satisfaction_Level', 'Promotion_in_Last_2_Years']\n"
     ]
    }
   ],
   "source": [
    "# Basic feature set (drop label columns from features)\n",
    "X_cols = [c for c in features if c not in [attrition_col, perf_col]]\n",
    "print('X columns used:', X_cols)"
   ]
  },
  {
   "cell_type": "markdown",
   "id": "94f72092",
   "metadata": {},
   "source": [
    "## Train/Test split & scaling helper"
   ]
  },
  {
   "cell_type": "code",
   "execution_count": 91,
   "id": "d33a74cc",
   "metadata": {},
   "outputs": [],
   "source": [
    "def prepare_data_for_classification(df, X_cols, label_col, test_size=0.2, random_state=42, scale=True):\n",
    "    X = df[X_cols].copy()\n",
    "    y = df[label_col].copy()\n",
    "    X_train, X_test, y_train, y_test = train_test_split(X, y, test_size=test_size, stratify=y, random_state=random_state)\n",
    "    if scale:\n",
    "        scaler = StandardScaler()\n",
    "        X_train[X_train.columns] = scaler.fit_transform(X_train)\n",
    "        X_test[X_test.columns] = scaler.transform(X_test)\n",
    "        return X_train, X_test, y_train, y_test, scaler\n",
    "    else:\n",
    "        return X_train, X_test, y_train, y_test, None"
   ]
  },
  {
   "cell_type": "code",
   "execution_count": 92,
   "id": "4fde8778",
   "metadata": {},
   "outputs": [],
   "source": [
    "# For regression\n",
    "def prepare_data_for_regression(df, X_cols, label_col, test_size=0.2, random_state=42, scale=True):\n",
    "    X = df[X_cols].copy()\n",
    "    y = df[label_col].copy()\n",
    "    X_train, X_test, y_train, y_test = train_test_split(X, y, test_size=test_size, random_state=random_state)\n",
    "    if scale:\n",
    "        scaler = StandardScaler()\n",
    "        X_train[X_train.columns] = scaler.fit_transform(X_train)\n",
    "        X_test[X_test.columns] = scaler.transform(X_test)\n",
    "        return X_train, X_test, y_train, y_test, scaler\n",
    "    else:\n",
    "        return X_train, X_test, y_train, y_test, None"
   ]
  },
  {
   "cell_type": "markdown",
   "id": "45aa6557",
   "metadata": {},
   "source": [
    "# Task 1a: Random Forest Classification (Attrition)"
   ]
  },
  {
   "cell_type": "code",
   "execution_count": 93,
   "id": "3b095799",
   "metadata": {},
   "outputs": [
    {
     "name": "stdout",
     "output_type": "stream",
     "text": [
      "\n",
      "=== Random Forest Classification: Attrition ===\n",
      "Accuracy: 0.8033333333333333\n",
      "Precision: 0.2\n",
      "Recall: 0.002849002849002849\n",
      "F1: 0.0056179775280898875\n",
      "Training time (s): 4.432855129241943\n",
      "\n",
      "Classification report:\n",
      "               precision    recall  f1-score   support\n",
      "\n",
      "           0       0.81      1.00      0.89      1449\n",
      "           1       0.20      0.00      0.01       351\n",
      "\n",
      "    accuracy                           0.80      1800\n",
      "   macro avg       0.50      0.50      0.45      1800\n",
      "weighted avg       0.69      0.80      0.72      1800\n",
      "\n"
     ]
    }
   ],
   "source": [
    "if attrition_col is not None:\n",
    "    print('\\n=== Random Forest Classification: Attrition ===')\n",
    "    X_train, X_test, y_train, y_test, scaler = prepare_data_for_classification(data, X_cols, attrition_col)\n",
    "    clf = RandomForestClassifier(n_estimators=200, random_state=42)\n",
    "    t0 = time.time()\n",
    "    clf.fit(X_train, y_train)\n",
    "    t1 = time.time()\n",
    "    y_pred = clf.predict(X_test)\n",
    "    acc = accuracy_score(y_test, y_pred)\n",
    "    prec = precision_score(y_test, y_pred, average='binary', zero_division=0)\n",
    "    rec = recall_score(y_test, y_pred, average='binary', zero_division=0)\n",
    "    f1 = f1_score(y_test, y_pred, average='binary', zero_division=0)\n",
    "    print('Accuracy:', acc)\n",
    "    print('Precision:', prec)\n",
    "    print('Recall:', rec)\n",
    "    print('F1:', f1)\n",
    "    print('Training time (s):', t1 - t0)\n",
    "    print('\\nClassification report:\\n', classification_report(y_test, y_pred))\n"
   ]
  },
  {
   "cell_type": "code",
   "execution_count": 94,
   "id": "1e961302",
   "metadata": {},
   "outputs": [
    {
     "name": "stdout",
     "output_type": "stream",
     "text": [
      "\n",
      "Top features by importance:\n"
     ]
    },
    {
     "data": {
      "text/plain": [
       "Age                          0.198736\n",
       "Department                   0.074363\n",
       "Years_of_Experience          0.193137\n",
       "Monthly_Working_Hours        0.250784\n",
       "Training_Hours_per_Year      0.216875\n",
       "Job_Satisfaction_Level       0.048211\n",
       "Promotion_in_Last_2_Years    0.017894\n",
       "dtype: float64"
      ]
     },
     "metadata": {},
     "output_type": "display_data"
    }
   ],
   "source": [
    "\n",
    "# Feature importance (tree-based)\n",
    "fi = pd.Series(clf.feature_importances_, index=X_train.columns)\n",
    "print('\\nTop features by importance:')\n",
    "display(fi.head(10))"
   ]
  },
  {
   "cell_type": "code",
   "execution_count": 95,
   "id": "345f80b1",
   "metadata": {},
   "outputs": [
    {
     "name": "stdout",
     "output_type": "stream",
     "text": [
      "\n",
      "Top features by permutation importance:\n"
     ]
    },
    {
     "data": {
      "text/plain": [
       "Job_Satisfaction_Level       0.002222\n",
       "Training_Hours_per_Year      0.001444\n",
       "Age                          0.001056\n",
       "Promotion_in_Last_2_Years    0.000556\n",
       "Years_of_Experience          0.000444\n",
       "Monthly_Working_Hours        0.000444\n",
       "Department                  -0.000667\n",
       "dtype: float64"
      ]
     },
     "metadata": {},
     "output_type": "display_data"
    }
   ],
   "source": [
    "# Permutation importance (on test set)\n",
    "perm = permutation_importance(clf, X_test, y_test, n_repeats=10, random_state=42)\n",
    "perm_imp = pd.Series(perm.importances_mean, index=X_test.columns).sort_values(ascending=False)\n",
    "print('\\nTop features by permutation importance:')\n",
    "display(perm_imp.head(10))"
   ]
  },
  {
   "cell_type": "code",
   "execution_count": 96,
   "id": "e5d331b7",
   "metadata": {},
   "outputs": [
    {
     "name": "stdout",
     "output_type": "stream",
     "text": [
      "{'model': RandomForestClassifier(n_estimators=200, random_state=42), 'accuracy': 0.8033333333333333, 'precision': 0.2, 'recall': 0.002849002849002849, 'f1': 0.0056179775280898875, 'train_time': 4.432855129241943, 'feature_importance': Age                          0.198736\n",
      "Department                   0.074363\n",
      "Years_of_Experience          0.193137\n",
      "Monthly_Working_Hours        0.250784\n",
      "Training_Hours_per_Year      0.216875\n",
      "Job_Satisfaction_Level       0.048211\n",
      "Promotion_in_Last_2_Years    0.017894\n",
      "dtype: float64, 'permutation_importance': Job_Satisfaction_Level       0.002222\n",
      "Training_Hours_per_Year      0.001444\n",
      "Age                          0.001056\n",
      "Promotion_in_Last_2_Years    0.000556\n",
      "Years_of_Experience          0.000444\n",
      "Monthly_Working_Hours        0.000444\n",
      "Department                  -0.000667\n",
      "dtype: float64}\n"
     ]
    }
   ],
   "source": [
    "# First cell\n",
    "results = {}   # initialize dictionary\n",
    "\n",
    "# Later cell\n",
    "results['rf_classification'] = {\n",
    "    'model': clf,\n",
    "    'accuracy': acc,\n",
    "    'precision': prec,\n",
    "    'recall': rec,\n",
    "    'f1': f1,\n",
    "    'train_time': t1 - t0,\n",
    "    'feature_importance': fi,\n",
    "    'permutation_importance': perm_imp\n",
    "}\n",
    "\n",
    "# Check it\n",
    "print(results['rf_classification'])\n"
   ]
  },
  {
   "cell_type": "markdown",
   "id": "ab1ae145",
   "metadata": {},
   "source": [
    "# Task 1b: Random Forest Regression (Performance Rating)"
   ]
  },
  {
   "cell_type": "code",
   "execution_count": 97,
   "id": "e6befce1",
   "metadata": {},
   "outputs": [
    {
     "name": "stdout",
     "output_type": "stream",
     "text": [
      "\n",
      "=== Random Forest Regression: Performance Rating ===\n",
      "RMSE: 1.1528274420359323\n",
      "R2: -0.0473216657148503\n",
      "\n",
      "Top features by importance (regression):\n"
     ]
    },
    {
     "data": {
      "text/plain": [
       "Monthly_Working_Hours        0.247956\n",
       "Training_Hours_per_Year      0.212080\n",
       "Years_of_Experience          0.193218\n",
       "Age                          0.187925\n",
       "Department                   0.085016\n",
       "Job_Satisfaction_Level       0.053900\n",
       "Promotion_in_Last_2_Years    0.019905\n",
       "dtype: float64"
      ]
     },
     "metadata": {},
     "output_type": "display_data"
    }
   ],
   "source": [
    "if perf_col is not None:\n",
    "    print('\\n=== Random Forest Regression: Performance Rating ===')\n",
    "    X_train_r, X_test_r, y_train_r, y_test_r, scaler_r = prepare_data_for_regression(data, X_cols, perf_col)\n",
    "    regr = RandomForestRegressor(n_estimators=200, random_state=42)\n",
    "    t0 = time.time()\n",
    "    regr.fit(X_train_r, y_train_r)\n",
    "    t1 = time.time()\n",
    "    y_pred_r = regr.predict(X_test_r)\n",
    "    mse = mean_squared_error(y_test_r, y_pred_r)\n",
    "    rmse = np.sqrt(mse)\n",
    "    r2 = r2_score(y_test_r, y_pred_r)\n",
    "    print('RMSE:', rmse)\n",
    "    print('R2:', r2)\n",
    "\n",
    "    fi_r = pd.Series(regr.feature_importances_, index=X_train_r.columns).sort_values(ascending=False)\n",
    "    print('\\nTop features by importance (regression):')\n",
    "    display(fi_r.head(10))\n",
    "\n",
    "    results['rf_regression'] = {\n",
    "        'model': regr,\n",
    "        'rmse': rmse,\n",
    "        'r2': r2,\n",
    "        'train_time': t1 - t0,\n",
    "        'feature_importance': fi_r\n",
    "    }"
   ]
  },
  {
   "cell_type": "markdown",
   "id": "de24a029",
   "metadata": {},
   "source": [
    " # Task 2: Support Vector Machine (SVM) - Attrition classification\n",
    "# We'll train SVMs with linear, polynomial, and RBF kernels and compa"
   ]
  },
  {
   "cell_type": "code",
   "execution_count": 101,
   "id": "e5c64edf",
   "metadata": {},
   "outputs": [
    {
     "name": "stdout",
     "output_type": "stream",
     "text": [
      "\n",
      "=== SVM Classification (kernels comparison) ===\n",
      "\n",
      "Training SVM with kernel=linear\n",
      "Accuracy: 0.805 Precision: 0.0 Recall: 0.0 F1: 0.0 Train time: 0.9770822525024414\n",
      "\n",
      "Training SVM with kernel=poly\n",
      "Accuracy: 0.805 Precision: 0.0 Recall: 0.0 F1: 0.0 Train time: 1.1803772449493408\n",
      "\n",
      "Training SVM with kernel=rbf\n",
      "Accuracy: 0.805 Precision: 0.0 Recall: 0.0 F1: 0.0 Train time: 6.5986878871917725\n"
     ]
    }
   ],
   "source": [
    "if attrition_col is not None:\n",
    "    print('\\n=== SVM Classification (kernels comparison) ===')\n",
    "    X_train_s, X_test_s, y_train_s, y_test_s, scaler_s = prepare_data_for_classification(data, X_cols, attrition_col)\n",
    "\n",
    "    svm_kernels = ['linear', 'poly', 'rbf']\n",
    "    svm_results = {}\n",
    "    for kernel in svm_kernels:\n",
    "        print(f'\\nTraining SVM with kernel={kernel}')\n",
    "        if kernel == 'poly':\n",
    "            model = SVC(kernel=kernel, degree=3, probability=False, random_state=42)\n",
    "        else:\n",
    "            model = SVC(kernel=kernel, probability=False, random_state=42)\n",
    "        t0 = time.time()\n",
    "        model.fit(X_train_s, y_train_s)\n",
    "        t1 = time.time()\n",
    "        y_pred_s = model.predict(X_test_s)\n",
    "        acc = accuracy_score(y_test_s, y_pred_s)\n",
    "        prec = precision_score(y_test_s, y_pred_s, average='binary', zero_division=0)\n",
    "        rec = recall_score(y_test_s, y_pred_s, average='binary', zero_division=0)\n",
    "        f1 = f1_score(y_test_s, y_pred_s, average='binary', zero_division=0)\n",
    "        print('Accuracy:', acc, 'Precision:', prec, 'Recall:', rec, 'F1:', f1, 'Train time:', t1 - t0)\n",
    "        svm_results[kernel] = {\n",
    "            'model': model,\n",
    "            'accuracy': acc,\n",
    "            'precision': prec,\n",
    "            'recall': rec,\n",
    "            'f1': f1,\n",
    "            'train_time': t1 - t0\n",
    "        }\n",
    "\n",
    "    results['svm'] = svm_results"
   ]
  },
  {
   "cell_type": "markdown",
   "id": "ef018e62",
   "metadata": {},
   "source": [
    "# Task 3: XGBoost Classification (Attrition) + Hyperparameter tuning\n",
    "# We'll run a basic XGBoost classifier and then do a RandomizedSearchCV for a few important hyperparameters."
   ]
  },
  {
   "cell_type": "code",
   "execution_count": 102,
   "id": "b66ed521",
   "metadata": {},
   "outputs": [
    {
     "name": "stdout",
     "output_type": "stream",
     "text": [
      "\n",
      "=== XGBoost Classification & Tuning ===\n",
      "Baseline XGBoost - Accuracy: 0.7744444444444445 Precision: 0.1686746987951807 Recall: 0.039886039886039885 F1: 0.06451612903225806 Train time: 0.5918850898742676\n",
      "Fitting 3 folds for each of 20 candidates, totalling 60 fits\n",
      "Best params: {'subsample': 0.6, 'n_estimators': 200, 'max_depth': 8, 'learning_rate': 0.01, 'colsample_bytree': 0.7}\n",
      "Tuned XGBoost - Accuracy: 0.805 Precision: 0.0 Recall: 0.0 F1: 0.0 Tuning time: 4.002607107162476\n"
     ]
    }
   ],
   "source": [
    "if attrition_col is not None:\n",
    "    print('\\n=== XGBoost Classification & Tuning ===')\n",
    "    X_train_x, X_test_x, y_train_x, y_test_x, scaler_x = prepare_data_for_classification(data, X_cols, attrition_col)\n",
    "    xgb = XGBClassifier(use_label_encoder=False, eval_metric='logloss', random_state=42)\n",
    "    t0 = time.time()\n",
    "    xgb.fit(X_train_x, y_train_x)\n",
    "    t1 = time.time()\n",
    "    y_pred_x = xgb.predict(X_test_x)\n",
    "    acc = accuracy_score(y_test_x, y_pred_x)\n",
    "    prec = precision_score(y_test_x, y_pred_x, average='binary', zero_division=0)\n",
    "    rec = recall_score(y_test_x, y_pred_x, average='binary', zero_division=0)\n",
    "    f1 = f1_score(y_test_x, y_pred_x, average='binary', zero_division=0)\n",
    "    print('Baseline XGBoost - Accuracy:', acc, 'Precision:', prec, 'Recall:', rec, 'F1:', f1, 'Train time:', t1 - t0)\n",
    "\n",
    "    # Hyperparameter tuning (RandomizedSearch for speed) - quick search space\n",
    "    param_dist = {\n",
    "        'n_estimators': [50, 100, 200, 300],\n",
    "        'max_depth': [3, 4, 6, 8],\n",
    "        'learning_rate': [0.01, 0.05, 0.1, 0.2],\n",
    "        'subsample': [0.6, 0.8, 1.0],\n",
    "        'colsample_bytree': [0.5, 0.7, 1.0]\n",
    "    }\n",
    "    xgb_rs = RandomizedSearchCV(XGBClassifier(use_label_encoder=False, eval_metric='logloss', random_state=42),\n",
    "                                param_distributions=param_dist,\n",
    "                                n_iter=20,\n",
    "                                scoring='accuracy',\n",
    "                                cv=3,\n",
    "                                verbose=1,\n",
    "                                random_state=42,\n",
    "                                n_jobs=-1)\n",
    "    t0 = time.time()\n",
    "    xgb_rs.fit(X_train_x, y_train_x)\n",
    "    t1 = time.time()\n",
    "    print('Best params:', xgb_rs.best_params_)\n",
    "    best_xgb = xgb_rs.best_estimator_\n",
    "    y_pred_xb = best_xgb.predict(X_test_x)\n",
    "    acc_b = accuracy_score(y_test_x, y_pred_xb)\n",
    "    prec_b = precision_score(y_test_x, y_pred_xb, average='binary', zero_division=0)\n",
    "    rec_b = recall_score(y_test_x, y_pred_xb, average='binary', zero_division=0)\n",
    "    f1_b = f1_score(y_test_x, y_pred_xb, average='binary', zero_division=0)\n",
    "    print('Tuned XGBoost - Accuracy:', acc_b, 'Precision:', prec_b, 'Recall:', rec_b, 'F1:', f1_b, 'Tuning time:', t1 - t0)\n"
   ]
  },
  {
   "cell_type": "code",
   "execution_count": 103,
   "id": "74644918",
   "metadata": {},
   "outputs": [
    {
     "name": "stdout",
     "output_type": "stream",
     "text": [
      "\n",
      "Top features by XGBoost importance:\n"
     ]
    },
    {
     "data": {
      "text/plain": [
       "Monthly_Working_Hours        0.164649\n",
       "Training_Hours_per_Year      0.155501\n",
       "Age                          0.146251\n",
       "Years_of_Experience          0.145534\n",
       "Promotion_in_Last_2_Years    0.145057\n",
       "Department                   0.124817\n",
       "Job_Satisfaction_Level       0.118192\n",
       "dtype: float32"
      ]
     },
     "metadata": {},
     "output_type": "display_data"
    }
   ],
   "source": [
    "# Feature importance\n",
    "fi_xgb = pd.Series(best_xgb.feature_importances_, index=X_train_x.columns).sort_values(ascending=False)\n",
    "print('\\nTop features by XGBoost importance:')\n",
    "display(fi_xgb.head(10))"
   ]
  },
  {
   "cell_type": "code",
   "execution_count": 104,
   "id": "c226587a",
   "metadata": {},
   "outputs": [],
   "source": [
    "results['xgboost'] = {\n",
    "            'baseline': {'accuracy': acc, 'precision': prec, 'recall': rec, 'f1': f1, 'train_time': t1 - t0},\n",
    "            'tuned': {'model': best_xgb, 'accuracy': acc_b, 'precision': prec_b, 'recall': rec_b, 'f1': f1_b, 'tuning_time': t1 - t0, 'feature_importance': fi_xgb}\n",
    "        }\n"
   ]
  },
  {
   "cell_type": "markdown",
   "id": "b7c0b6ba",
   "metadata": {},
   "source": [
    "## Compare models (classification summary table)"
   ]
  },
  {
   "cell_type": "code",
   "execution_count": 105,
   "id": "4b5c78f7",
   "metadata": {},
   "outputs": [
    {
     "data": {
      "text/html": [
       "<div>\n",
       "<style scoped>\n",
       "    .dataframe tbody tr th:only-of-type {\n",
       "        vertical-align: middle;\n",
       "    }\n",
       "\n",
       "    .dataframe tbody tr th {\n",
       "        vertical-align: top;\n",
       "    }\n",
       "\n",
       "    .dataframe thead th {\n",
       "        text-align: right;\n",
       "    }\n",
       "</style>\n",
       "<table border=\"1\" class=\"dataframe\">\n",
       "  <thead>\n",
       "    <tr style=\"text-align: right;\">\n",
       "      <th></th>\n",
       "      <th>model</th>\n",
       "      <th>accuracy</th>\n",
       "      <th>precision</th>\n",
       "      <th>recall</th>\n",
       "      <th>f1</th>\n",
       "      <th>time_s</th>\n",
       "    </tr>\n",
       "  </thead>\n",
       "  <tbody>\n",
       "    <tr>\n",
       "      <th>1</th>\n",
       "      <td>SVM-linear</td>\n",
       "      <td>0.805000</td>\n",
       "      <td>0.0</td>\n",
       "      <td>0.000000</td>\n",
       "      <td>0.000000</td>\n",
       "      <td>0.977082</td>\n",
       "    </tr>\n",
       "    <tr>\n",
       "      <th>3</th>\n",
       "      <td>SVM-rbf</td>\n",
       "      <td>0.805000</td>\n",
       "      <td>0.0</td>\n",
       "      <td>0.000000</td>\n",
       "      <td>0.000000</td>\n",
       "      <td>6.598688</td>\n",
       "    </tr>\n",
       "    <tr>\n",
       "      <th>2</th>\n",
       "      <td>SVM-poly</td>\n",
       "      <td>0.805000</td>\n",
       "      <td>0.0</td>\n",
       "      <td>0.000000</td>\n",
       "      <td>0.000000</td>\n",
       "      <td>1.180377</td>\n",
       "    </tr>\n",
       "    <tr>\n",
       "      <th>4</th>\n",
       "      <td>XGBoost-tuned</td>\n",
       "      <td>0.805000</td>\n",
       "      <td>0.0</td>\n",
       "      <td>0.000000</td>\n",
       "      <td>0.000000</td>\n",
       "      <td>4.002607</td>\n",
       "    </tr>\n",
       "    <tr>\n",
       "      <th>0</th>\n",
       "      <td>RandomForest</td>\n",
       "      <td>0.803333</td>\n",
       "      <td>0.2</td>\n",
       "      <td>0.002849</td>\n",
       "      <td>0.005618</td>\n",
       "      <td>4.432855</td>\n",
       "    </tr>\n",
       "  </tbody>\n",
       "</table>\n",
       "</div>"
      ],
      "text/plain": [
       "           model  accuracy  precision    recall        f1    time_s\n",
       "1     SVM-linear  0.805000        0.0  0.000000  0.000000  0.977082\n",
       "3        SVM-rbf  0.805000        0.0  0.000000  0.000000  6.598688\n",
       "2       SVM-poly  0.805000        0.0  0.000000  0.000000  1.180377\n",
       "4  XGBoost-tuned  0.805000        0.0  0.000000  0.000000  4.002607\n",
       "0   RandomForest  0.803333        0.2  0.002849  0.005618  4.432855"
      ]
     },
     "metadata": {},
     "output_type": "display_data"
    }
   ],
   "source": [
    "if attrition_col is not None:\n",
    "    rows = []\n",
    "    # Random Forest\n",
    "    if 'rf_classification' in results:\n",
    "        r = results['rf_classification']\n",
    "        rows.append(('RandomForest', r['accuracy'], r['precision'], r['recall'], r['f1'], r['train_time']))\n",
    "    # SVM kernels\n",
    "    if 'svm' in results:\n",
    "        for k,v in results['svm'].items():\n",
    "            rows.append((f'SVM-{k}', v['accuracy'], v['precision'], v['recall'], v['f1'], v['train_time']))\n",
    "    # XGBoost tuned\n",
    "    if 'xgboost' in results:\n",
    "        xb = results['xgboost']['tuned']\n",
    "        rows.append(('XGBoost-tuned', xb['accuracy'], xb['precision'], xb['recall'], xb['f1'], xb['tuning_time']))\n",
    "\n",
    "    comp_df = pd.DataFrame(rows, columns=['model','accuracy','precision','recall','f1','time_s']).sort_values('accuracy', ascending=False)\n",
    "    display(comp_df)"
   ]
  },
  {
   "cell_type": "markdown",
   "id": "571e48b5",
   "metadata": {},
   "source": [
    " ## Plots: feature importance comparison (top 10)\n"
   ]
  },
  {
   "cell_type": "code",
   "execution_count": 106,
   "id": "8a02bed7",
   "metadata": {},
   "outputs": [
    {
     "data": {
      "image/png": "[encoded data removed]",
      "text/plain": [
       "<Figure size 1000x600 with 1 Axes>"
      ]
     },
     "metadata": {},
     "output_type": "display_data"
    },
    {
     "data": {
      "image/png": "[encoded data removed]",
      "text/plain": [
       "<Figure size 1000x600 with 1 Axes>"
      ]
     },
     "metadata": {},
     "output_type": "display_data"
    }
   ],
   "source": [
    "if attrition_col is not None:\n",
    "    plt.figure(figsize=(10,6))\n",
    "    if 'rf_classification' in results:\n",
    "        fi = results['rf_classification']['feature_importance'].head(10)\n",
    "        fi.plot(kind='bar');\n",
    "        plt.title('Random Forest - Top 10 feature importance')\n",
    "        plt.tight_layout()\n",
    "        plt.show()\n",
    "    if 'xgboost' in results:\n",
    "        fi2 = results['xgboost']['tuned']['feature_importance'].head(10)\n",
    "        plt.figure(figsize=(10,6))\n",
    "        fi2.plot(kind='bar')\n",
    "        plt.title('XGBoost - Top 10 feature importance')\n",
    "        plt.tight_layout()\n",
    "        plt.show()"
   ]
  },
  {
   "cell_type": "code",
   "execution_count": 107,
   "id": "60395b15",
   "metadata": {},
   "outputs": [],
   "source": [
    "save_models = False\n",
    "if save_models:\n",
    "    import joblib\n",
    "    if 'rf_classification' in results:\n",
    "        joblib.dump(results['rf_classification']['model'], 'rf_classification.pkl')\n",
    "    if 'rf_regression' in results:\n",
    "        joblib.dump(results['rf_regression']['model'], 'rf_regression.pkl')\n",
    "    if 'svm' in results:\n",
    "        for k,v in results['svm'].items():\n",
    "            joblib.dump(v['model'], f'svm_{k}.pkl')\n",
    "    if 'xgboost' in results:\n",
    "        joblib.dump(results['xgboost']['tuned']['model'], 'xgboost_tuned.pkl')\n",
    "    print('Models saved')"
   ]
  }
 ],
 "metadata": {
  "kernelspec": {
   "display_name": "base",
   "language": "python",
   "name": "python3"
  },
  "language_info": {
   "codemirror_mode": {
    "name": "ipython",
    "version": 3
   },
   "file_extension": ".py",
   "mimetype": "text/x-python",
   "name": "python",
   "nbconvert_exporter": "python",
   "pygments_lexer": "ipython3",
   "version": "3.13.5"
  }
 },
 "nbformat": 4,
 "nbformat_minor": 5
}
